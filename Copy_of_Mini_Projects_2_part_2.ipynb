{
  "nbformat": 4,
  "nbformat_minor": 0,
  "metadata": {
    "colab": {
      "name": "Copy of Mini_Projects_2/ part 2.ipynb",
      "provenance": [],
      "include_colab_link": true
    },
    "kernelspec": {
      "name": "python3",
      "display_name": "Python 3"
    }
  },
  "cells": [
    {
      "cell_type": "markdown",
      "metadata": {
        "id": "view-in-github",
        "colab_type": "text"
      },
      "source": [
        "<a href=\"https://colab.research.google.com/github/Ahmedmohamed20197082/Machine-Learning-Training/blob/main/Copy_of_Mini_Projects_2_part_2.ipynb\" target=\"_parent\"><img src=\"https://colab.research.google.com/assets/colab-badge.svg\" alt=\"Open In Colab\"/></a>"
      ]
    },
    {
      "cell_type": "markdown",
      "metadata": {
        "id": "c2sSEq3uSurn"
      },
      "source": [
        "# Files and Exceptions"
      ]
    },
    {
      "cell_type": "markdown",
      "metadata": {
        "id": "qw2XyRs-TWIF"
      },
      "source": [
        "**8. Sum of Numbers** <br>\n",
        "Assume that a file containing a series of integers is named numbers.txt and exists on the computer’s disk. Write a program that reads all of the numbers stored in the file and calculates their total.\n"
      ]
    },
    {
      "cell_type": "code",
      "metadata": {
        "id": "92EStR9KSu8N",
        "colab": {
          "base_uri": "https://localhost:8080/"
        },
        "outputId": "03ba7d28-c553-46f5-cc80-425dd28b612a"
      },
      "source": [
        "def main():\n",
        "  infile = open('numbers.txt','r')\n",
        "\n",
        "  num1 = int(infile.readline())\n",
        "  num2 = int(infile.readline())\n",
        "  num3 = int(infile.readline())\n",
        "  num4 = int(infile.readline())\n",
        "  num5 = int(infile.readline())\n",
        "  contents = infile.read()\n",
        "  infile.close()\n",
        "\n",
        "  print(\"The Numbers are :\",num1,num2,num3,num4,num5)\n",
        "\n",
        "  sum = num1 + num2 + num3 + num4 + num5\n",
        "  \n",
        "  print(\"their sum equal =\",sum)\n",
        "\n",
        "main()"
      ],
      "execution_count": null,
      "outputs": [
        {
          "output_type": "stream",
          "text": [
            "The Numbers are : 1 2 3 4 5\n",
            "their sum equal = 15\n"
          ],
          "name": "stdout"
        }
      ]
    },
    {
      "cell_type": "code",
      "metadata": {
        "id": "B7GImG_lSu-u"
      },
      "source": [
        ""
      ],
      "execution_count": null,
      "outputs": []
    },
    {
      "cell_type": "markdown",
      "metadata": {
        "id": "gW0mWcdDVgK4"
      },
      "source": [
        "**9. Average of Numbers** <br>\n",
        "Assume that a file containing a series of integers is named numbers.txt and exists on the computer’s disk. Write a program that calculates the average of all the numbers stored in\n",
        "the file"
      ]
    },
    {
      "cell_type": "code",
      "metadata": {
        "id": "3-DZx-vnSvCe",
        "colab": {
          "base_uri": "https://localhost:8080/"
        },
        "outputId": "ff4d9253-f702-4b9d-c837-3a946aa3c1d9"
      },
      "source": [
        "def main():\n",
        "  infile = open ('numbers.txt','r')\n",
        "  \n",
        "  num1 = int(infile.readline())\n",
        "  num2 = int(infile.readline())\n",
        "  num3 = int(infile.readline())\n",
        "  num4 = int(infile.readline())\n",
        "  num5 = int(infile.readline())\n",
        "  contents = infile.read()\n",
        "  \n",
        "  infile.close()\n",
        "  print(\"The Numbers are :\",num1,num2,num3,num4,num5)\n",
        "  n = 5\n",
        "  sum = num1 + num2 + num3 + num4 + num5\n",
        "  Average = sum / n\n",
        "  print(\"Average of Numbers =\",Average)\n",
        "\n",
        "main()"
      ],
      "execution_count": null,
      "outputs": [
        {
          "output_type": "stream",
          "text": [
            "The Numbers are : 1 2 3 4 5\n",
            "Average of Numbers = 3.0\n"
          ],
          "name": "stdout"
        }
      ]
    },
    {
      "cell_type": "markdown",
      "metadata": {
        "id": "vjchCYETVwPx"
      },
      "source": [
        "**10. Random Number File Writer**<br>\n",
        "Write a program that writes a series of random numbers to a file. Each random number should be in the range of 1 \n",
        "through 500. The application should let the user specify how\n",
        "many random numbers the file will hold.\n"
      ]
    },
    {
      "cell_type": "code",
      "metadata": {
        "id": "DCyba_BZVxLF",
        "colab": {
          "base_uri": "https://localhost:8080/"
        },
        "outputId": "f11291a1-4235-4b57-e912-8d62bc98f1d3"
      },
      "source": [
        "import random\n",
        "def main():\n",
        "  NumberOfRandonNumbers = int(input(\"how many random numbers the file will hold ? \"))\n",
        "  outfile = open ('RandomNumbers.txt','w')\n",
        "\n",
        "  for randomNumber in range(1,NumberOfRandonNumbers +1):\n",
        "    randomNumber = str(random.randint(1, 500))\n",
        "    outfile.write(randomNumber)\n",
        "    print(randomNumber)\n",
        "  outfile.close()\n",
        "main()"
      ],
      "execution_count": null,
      "outputs": [
        {
          "output_type": "stream",
          "text": [
            "how many random numbers the file will hold ? 6\n",
            "369\n",
            "107\n",
            "440\n",
            "47\n",
            "297\n",
            "435\n"
          ],
          "name": "stdout"
        }
      ]
    },
    {
      "cell_type": "code",
      "metadata": {
        "id": "uZ7CQJM0VxN5"
      },
      "source": [
        ""
      ],
      "execution_count": null,
      "outputs": []
    },
    {
      "cell_type": "markdown",
      "metadata": {
        "id": "p75ZKqbXWMdY"
      },
      "source": [
        "**11.  Exception Handing** <br>\n",
        "Modify the program that you wrote for Exercise 9 so it handles the following exceptions: <br>\n",
        "* It should handle any IOError exceptions that are raised when the file is opened and data\n",
        "is read from it. <br>\n",
        "* It should handle any ValueError exceptions that are raised when the items that are read from the file are converted to a number."
      ]
    },
    {
      "cell_type": "code",
      "metadata": {
        "id": "22SOHQbrVxRE",
        "colab": {
          "base_uri": "https://localhost:8080/"
        },
        "outputId": "c94b598b-cd16-48d9-de9a-2af62f5c0e97"
      },
      "source": [
        "def main():\n",
        "  try:\n",
        "    infile = open ('numbers.txt','r')\n",
        "    num1 = int(infile.readline())\n",
        "    num2 = int(infile.readline())\n",
        "    num3 = int(infile.readline())\n",
        "    num4 = int(infile.readline())\n",
        "    num5 = int(infile.readline())\n",
        "    contents = infile.read()\n",
        "  \n",
        "    infile.close()\n",
        "    print(\"The Numbers are :\",num1,num2,num3,num4,num5)\n",
        "    n = 5\n",
        "    sum = num1 + num2 + num3 + num4 + num5\n",
        "    Average = sum / n\n",
        "    print(\"Average of Numbers =\",Average)\n",
        "  except ValueError:\n",
        "    print('ERROR: Hours worked and hourly pay rate must')\n",
        "    print('be valid numbers.')\n",
        "main()\n",
        "\n"
      ],
      "execution_count": null,
      "outputs": [
        {
          "output_type": "stream",
          "text": [
            "ERROR: Hours worked and hourly pay rate must\n",
            "be valid numbers.\n"
          ],
          "name": "stdout"
        }
      ]
    },
    {
      "cell_type": "code",
      "metadata": {
        "id": "3p0MENR_WrBV"
      },
      "source": [
        ""
      ],
      "execution_count": null,
      "outputs": []
    }
  ]
}